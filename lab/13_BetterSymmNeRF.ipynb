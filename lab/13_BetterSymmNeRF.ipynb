{
 "cells": [
  {
   "cell_type": "code",
   "execution_count": 1,
   "id": "e5a6a2d7-f522-468a-89c4-eb5e1c57b892",
   "metadata": {
    "tags": []
   },
   "outputs": [],
   "source": [
    "%load_ext autoreload\n",
    "%autoreload 2"
   ]
  },
  {
   "cell_type": "code",
   "execution_count": 2,
   "id": "c2603e72-9f2c-46bf-8ee3-8849d72ee28c",
   "metadata": {
    "tags": []
   },
   "outputs": [],
   "source": [
    "import sys\n",
    "sys.path.append('../')\n",
    "sys.argv=[''] \n",
    "del sys"
   ]
  },
  {
   "cell_type": "code",
   "execution_count": 3,
   "id": "5d3aae7e-02eb-4cd6-987c-06a602d1ce80",
   "metadata": {
    "tags": []
   },
   "outputs": [
    {
     "name": "stdout",
     "output_type": "stream",
     "text": [
      "/root/SymmNeRF\n"
     ]
    }
   ],
   "source": [
    "cd \"/root/SymmNeRF/\""
   ]
  },
  {
   "cell_type": "code",
   "execution_count": 4,
   "id": "255e68c2-9b45-464b-9c2d-1a5c1410f102",
   "metadata": {
    "tags": []
   },
   "outputs": [],
   "source": [
    "from opt import config_parser\n",
    "import torch \n",
    "import numpy as np \n",
    "import matplotlib.pyplot as plt \n",
    "import setproctitle\n",
    "import tqdm \n",
    "parser = config_parser()\n",
    "args = parser.parse_args()\n",
    "\n",
    "device = torch.device(\"cuda:0\")\n",
    "det = args.det\n",
    "lindisp = args.lindisp\n",
    "args.distributed = False\n",
    "args.local_feature_ch = 512\n",
    "args.local_rank = 0\n",
    "args.eval_scene = 'cars'\n",
    "args.eval_dataset = 'srns_dataset'\n",
    "\n",
    "args.no_load_opt = True\n",
    "args.no_load_scheduler = True\n",
    "\n",
    "setproctitle.setproctitle('[Gaetan - SymmNeRF Test]')"
   ]
  },
  {
   "cell_type": "code",
   "execution_count": 5,
   "id": "3feb4f60-6281-4f2d-86d7-c7d0a6af59d1",
   "metadata": {
    "tags": []
   },
   "outputs": [
    {
     "name": "stdout",
     "output_type": "stream",
     "text": [
      "SRNsDataset:  /data/srn_cars/cars_test\n"
     ]
    }
   ],
   "source": [
    "# Create training dataset\n",
    "from torch.utils.data import DataLoader,Subset\n",
    "from datasets import dataset_dict, create_training_dataset\n",
    "import matplotlib.pyplot as plt \n",
    "\n",
    "\n",
    "test_dataset = dataset_dict[args.eval_dataset](args,'test',args.eval_scene)\n",
    "\n",
    "test_idx = np.random.randint(1,len(test_dataset),100)\n",
    "test_subset = Subset(test_dataset,test_idx)\n",
    "test_loader = DataLoader(test_subset,batch_size = 1,shuffle = True)"
   ]
  },
  {
   "cell_type": "code",
   "execution_count": 6,
   "id": "cf66c6ba-a564-4ec1-93fd-f9c8802a453d",
   "metadata": {
    "tags": []
   },
   "outputs": [],
   "source": [
    "from model.model import HyperNeRFResNetSymmLocal"
   ]
  },
  {
   "cell_type": "markdown",
   "id": "bc0fae69-b2e1-4d78-8bd2-fdb32dfea2ad",
   "metadata": {},
   "source": [
    "### Original SymmNeRF with our modifications."
   ]
  },
  {
   "cell_type": "code",
   "execution_count": 7,
   "id": "0c4ed4e7-4c28-4477-9c26-fcd9a4d61c4b",
   "metadata": {
    "tags": []
   },
   "outputs": [
    {
     "name": "stdout",
     "output_type": "stream",
     "text": [
      "[Info] Reloading from /root/SymmNeRF/logs/enforceSymmFineOnlyWithConcat/ckpts/model_400000.pth, starting at step=400000\n"
     ]
    }
   ],
   "source": [
    "args.enforce_symmetry = {'status': True, 'on_coarse': True,'on_fine': True,'concatenate_on_coarse':True, 'concatenate_on_fine':True}\n",
    "args.feature = {'F':{'use_CNN':True,'use_VIT':False},'z':{'use_CNN':True,'use_VIT':False}}\n",
    "args.with_vit = False\n",
    "args.archCNN = 'resnet34'\n",
    "args.local_feature_ch = 512\n",
    "args.num_local_layers = 2\n",
    "\n",
    "model_enforce_symm_with_concat = HyperNeRFResNetSymmLocal(args,ckpts_folder = '/root/SymmNeRF/logs/enforceSymmFineOnlyWithConcat/ckpts')"
   ]
  },
  {
   "cell_type": "markdown",
   "id": "d447c67a-9310-4469-bc22-3b4fcaf95974",
   "metadata": {},
   "source": [
    "### What we would like to train. "
   ]
  },
  {
   "cell_type": "code",
   "execution_count": 24,
   "id": "4acbc767-988c-4cc7-a892-de6b4598533b",
   "metadata": {
    "tags": []
   },
   "outputs": [
    {
     "name": "stdout",
     "output_type": "stream",
     "text": [
      "[Info] No ckpts found, training from scratch...\n"
     ]
    }
   ],
   "source": [
    "args.enforce_symmetry = {'status': True, 'on_coarse': True,'on_fine': True,'concatenate_on_coarse':True, 'concatenate_on_fine':True}\n",
    "args.feature = {'F':{'use_CNN':True,'use_VIT':False},'z':{'use_CNN':True,'use_VIT':False}}\n",
    "args.with_vit = False\n",
    "args.archCNN = 'resnet-vision'\n",
    "args.local_feature_ch = 128\n",
    "args.latent_dim = 256\n",
    "args.num_local_layers = 2\n",
    "\n",
    "model = HyperNeRFResNetSymmLocal(args,ckpts_folder = '')"
   ]
  },
  {
   "cell_type": "markdown",
   "id": "d4233c40-61b9-48c2-9caf-7a5cc50716ef",
   "metadata": {},
   "source": [
    "### Test the implementation"
   ]
  },
  {
   "cell_type": "code",
   "execution_count": 26,
   "id": "73e61d57-cfe9-4cec-b987-0184d557ba50",
   "metadata": {
    "tags": []
   },
   "outputs": [
    {
     "name": "stdout",
     "output_type": "stream",
     "text": [
      "torch.Size([1, 256])\n",
      "torch.Size([1, 64, 64, 64])\n"
     ]
    }
   ],
   "source": [
    "x = torch.zeros([1,3,128,128]).to(device)\n",
    "\n",
    "z,Fcnn,Fvit = model.encode(x)\n",
    "\n",
    "print(z.shape)\n",
    "print(Fcnn.shape)"
   ]
  },
  {
   "cell_type": "code",
   "execution_count": null,
   "id": "79d44214-0ed5-47e9-9b12-72106943e102",
   "metadata": {},
   "outputs": [],
   "source": []
  },
  {
   "cell_type": "code",
   "execution_count": 8,
   "id": "c747b6c9-7418-4197-a755-1f35bf46a14d",
   "metadata": {
    "tags": []
   },
   "outputs": [],
   "source": [
    "from model.sample_ray import RaySampler\n",
    "from model.render_ray import * \n",
    "from model.projection import Projector\n",
    "import numpy as np "
   ]
  },
  {
   "cell_type": "code",
   "execution_count": 9,
   "id": "3570deb2-99b9-42c8-9458-ff3324b79094",
   "metadata": {
    "tags": []
   },
   "outputs": [
    {
     "name": "stderr",
     "output_type": "stream",
     "text": [
      "/usr/local/lib/python3.9/dist-packages/torch/functional.py:568: UserWarning: torch.meshgrid: in an upcoming release, it will be required to pass the indexing argument. (Triggered internally at  ../aten/src/ATen/native/TensorShape.cpp:2228.)\n",
      "  return _VF.meshgrid(tensors, **kwargs)  # type: ignore[attr-defined]\n"
     ]
    }
   ],
   "source": [
    "# Data to overfit on.\n",
    "it = iter(test_loader)\n",
    "test_data = next(it)\n",
    "\n",
    "# Load training rays\n",
    "ray_sampler = RaySampler(test_data)"
   ]
  },
  {
   "cell_type": "code",
   "execution_count": 10,
   "id": "d3345aab-7aa5-46fc-b017-cda88b058fd8",
   "metadata": {
    "tags": []
   },
   "outputs": [],
   "source": [
    "# Symmetry matrix. \n",
    "M = torch.tensor([[-1.,0.,0.],[0.,1.,0.],[0.,0.,1.]]).to(device)\n",
    "\n",
    "# Projector \n",
    "projector = Projector(device = device)\n",
    "\n",
    "# Render view. \n",
    "render_view = np.random.randint(0,250,1)[0]"
   ]
  },
  {
   "cell_type": "code",
   "execution_count": 11,
   "id": "6b6bbccc-bfbc-492a-a87c-10f721eff0f5",
   "metadata": {
    "tags": []
   },
   "outputs": [],
   "source": [
    "# Prediction Image.\n",
    "Ipred = get_intermediate_visuals(args,model_enforce_symm_with_concat,projector,M,device,ray_sampler,render_view)\n",
    "\n",
    "# Target Image. \n",
    "It = ray_sampler.render_imgs[0][render_view].permute(1, 2, 0).cpu()\n",
    "It_np = It.numpy()\n",
    "# Source Image. \n",
    "Is = ray_sampler.render_imgs[0][ray_sampler.src_view[0]].permute(1,2,0)\n",
    "Is_np = Is.numpy()"
   ]
  },
  {
   "cell_type": "code",
   "execution_count": 23,
   "id": "3faa16b5-4324-4399-b87c-08905d94bd49",
   "metadata": {
    "tags": []
   },
   "outputs": [],
   "source": [
    "from model.feature_network import * "
   ]
  },
  {
   "cell_type": "code",
   "execution_count": 27,
   "id": "3ffa42a5-9f66-4d90-8712-919bc02984e7",
   "metadata": {
    "tags": []
   },
   "outputs": [
    {
     "name": "stdout",
     "output_type": "stream",
     "text": [
      "torch.Size([1, 64, 64, 64])\n",
      "torch.Size([1, 256])\n"
     ]
    }
   ],
   "source": [
    "model = ResNetVision(128)\n",
    "x = torch.zeros([1,3,128,128])\n",
    "z = model(x) \n",
    "F = model.latent\n",
    "print(F.shape)\n",
    "print(y.shape)"
   ]
  },
  {
   "cell_type": "code",
   "execution_count": 19,
   "id": "56861574-e32e-49ca-824d-77bef3f81256",
   "metadata": {},
   "outputs": [
    {
     "name": "stdout",
     "output_type": "stream",
     "text": [
      "torch.Size([1, 64])\n"
     ]
    }
   ],
   "source": [
    "import torch.nn as nn\n",
    "avg_pool = nn.AdaptiveAvgPool2d(1)\n",
    "y2 = avg_pool(y).squeeze(-1).squeeze(-1)\n",
    "print(y2.shape)"
   ]
  },
  {
   "cell_type": "code",
   "execution_count": 22,
   "id": "08c2582f-7904-403b-baf1-f77b6019ff86",
   "metadata": {},
   "outputs": [
    {
     "name": "stdout",
     "output_type": "stream",
     "text": [
      "torch.Size([1, 256])\n"
     ]
    }
   ],
   "source": [
    "features = 128\n",
    "z_latent_mlp = nn.Sequential(nn.Linear(features//2,features),\n",
    "                                          nn.Linear(features,2*features)\n",
    "                                         )\n",
    "\n",
    "z = z_latent_mlp(y2)\n",
    "print(z.shape)"
   ]
  }
 ],
 "metadata": {
  "kernelspec": {
   "display_name": "Python 3 (ipykernel)",
   "language": "python",
   "name": "python3"
  },
  "language_info": {
   "codemirror_mode": {
    "name": "ipython",
    "version": 3
   },
   "file_extension": ".py",
   "mimetype": "text/x-python",
   "name": "python",
   "nbconvert_exporter": "python",
   "pygments_lexer": "ipython3",
   "version": "3.9.16"
  }
 },
 "nbformat": 4,
 "nbformat_minor": 5
}
