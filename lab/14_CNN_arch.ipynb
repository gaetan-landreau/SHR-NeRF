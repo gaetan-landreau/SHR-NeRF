{
 "cells": [
  {
   "cell_type": "code",
   "execution_count": 29,
   "id": "5544538a-47c3-4b8f-ad6a-b4c5f6b140c4",
   "metadata": {
    "tags": []
   },
   "outputs": [
    {
     "name": "stdout",
     "output_type": "stream",
     "text": [
      "The autoreload extension is already loaded. To reload it, use:\n",
      "  %reload_ext autoreload\n"
     ]
    }
   ],
   "source": [
    "%load_ext autoreload\n",
    "%autoreload 2"
   ]
  },
  {
   "cell_type": "code",
   "execution_count": 30,
   "id": "47e02453-35dd-4d58-801b-a2510f38ea52",
   "metadata": {
    "tags": []
   },
   "outputs": [],
   "source": [
    "import sys\n",
    "sys.path.append('../')\n",
    "sys.argv=[''] \n",
    "del sys"
   ]
  },
  {
   "cell_type": "code",
   "execution_count": 31,
   "id": "80c66b0d-8391-4dee-b375-17a8838a5806",
   "metadata": {
    "tags": []
   },
   "outputs": [
    {
     "name": "stdout",
     "output_type": "stream",
     "text": [
      "/root/SymmNeRF-baseline/code\n"
     ]
    }
   ],
   "source": [
    "cd \"/root/SymmNeRF-baseline/code\""
   ]
  },
  {
   "cell_type": "code",
   "execution_count": 32,
   "id": "4a04965c-3662-4d26-9836-3781ccf3c6d7",
   "metadata": {
    "tags": []
   },
   "outputs": [],
   "source": [
    "from opt import config_parser\n",
    "import torch \n",
    "import numpy as np \n",
    "import matplotlib.pyplot as plt \n",
    "import setproctitle\n",
    "import tqdm \n",
    "parser = config_parser()\n",
    "args = parser.parse_args()\n",
    "\n",
    "device = torch.device(\"cpu\")\n",
    "det = args.det\n",
    "lindisp = args.lindisp\n",
    "args.distributed = False\n",
    "args.local_feature_ch = 512\n",
    "args.local_rank = -1\n",
    "args.eval_scene = 'cars'\n",
    "args.eval_dataset = 'srns_dataset'\n",
    "\n",
    "args.no_load_opt = True\n",
    "args.no_load_scheduler = True\n",
    "\n",
    "setproctitle.setproctitle('[Gaetan - SymmNeRF Test]')"
   ]
  },
  {
   "cell_type": "code",
   "execution_count": 33,
   "id": "18952b58-e88b-475b-82b6-6bce4ec00928",
   "metadata": {
    "tags": []
   },
   "outputs": [],
   "source": [
    "from model.feature_network import ResNetVision,ResNetSymmLocal,BasicBlock\n",
    "from model.feature_network import _resnet_symm_local \n",
    "\n",
    "latent_dim = 256\n",
    "\n",
    "model = _resnet_symm_local('resnet34', \n",
    "                                    latent_dim, \n",
    "                                    BasicBlock, [3, 4, 6, 3], \n",
    "                                    pretrained=False, \n",
    "                                    progress=True,\n",
    "                                    use_first_layer_as_F=False).to(device)\n"
   ]
  },
  {
   "cell_type": "code",
   "execution_count": 34,
   "id": "8d9cddeb-cdb8-466b-9ca0-d4b9c5543a94",
   "metadata": {
    "tags": []
   },
   "outputs": [
    {
     "name": "stdout",
     "output_type": "stream",
     "text": [
      "--------------------------------------------------\n",
      "Shape of latent: torch.Size([1, 256])\n",
      "--------------------------------------------------\n",
      "--------------------------------------------------\n",
      "Shape of the feature map F: torch.Size([1, 512, 64, 64])\n"
     ]
    }
   ],
   "source": [
    "x_in = torch.zeros([1,3,128,128]).to(device)\n",
    "\n",
    "z = model(x_in)\n",
    "\n",
    "\n",
    "# Check the shape of the latent code. \n",
    "print('-'*50)\n",
    "print(f'Shape of latent: {z.shape}')\n",
    "print('-'*50)\n",
    "\n",
    "\n",
    "# Check the shape of the Feature map. \n",
    "print('-'*50)\n",
    "print(f'Shape of the feature map F: {model.latent.shape}')"
   ]
  },
  {
   "cell_type": "markdown",
   "id": "aac75942-9de4-4a38-8c05-3e138adbffb1",
   "metadata": {},
   "source": [
    "#### Investigate how the latent is built in the baseline. "
   ]
  },
  {
   "cell_type": "code",
   "execution_count": 35,
   "id": "0a940369-1336-4269-a265-0c9285be7a76",
   "metadata": {
    "tags": []
   },
   "outputs": [
    {
     "name": "stdout",
     "output_type": "stream",
     "text": [
      "Shape of x after the first conv: torch.Size([1, 64, 64, 64])\n",
      "Shape of x after the maxpool: torch.Size([1, 64, 32, 32])\n",
      "Shape of x after the layer1: torch.Size([1, 64, 32, 32])\n",
      "Shape of x after the layer2: torch.Size([1, 128, 16, 16])\n",
      "Shape of x after the layer3: torch.Size([1, 256, 8, 8])\n"
     ]
    }
   ],
   "source": [
    "x = model.conv1(x_in)\n",
    "print(f'Shape of x after the first conv: {x.shape}')\n",
    "x = model.bn1(x)\n",
    "f0 = model.relu(x) # --> This first feature is saved for the futur \n",
    "x = model.maxpool(f0)\n",
    "print(f'Shape of x after the maxpool: {x.shape}')\n",
    "\n",
    "f1 = model.layer1(x) # --> Also saved. \n",
    "print(f'Shape of x after the layer1: {f1.shape}')\n",
    "f2 = model.layer2(f1) # --> Also saved. \n",
    "print(f'Shape of x after the layer2: {f2.shape}')\n",
    "f3 = model.layer3(f2) # --> Also saved. \n",
    "print(f'Shape of x after the layer3: {f3.shape}')"
   ]
  },
  {
   "cell_type": "code",
   "execution_count": 39,
   "id": "51a63d78-e06c-413b-98ed-d3fef21214bf",
   "metadata": {
    "tags": []
   },
   "outputs": [],
   "source": [
    "f = [f0,f1,f2,f3]\n",
    "f = [feat.to('cuda:0') for feat in f]"
   ]
  },
  {
   "cell_type": "code",
   "execution_count": 45,
   "id": "3dbb91ea-df6b-49de-8c57-c4e308998037",
   "metadata": {
    "tags": []
   },
   "outputs": [
    {
     "name": "stdout",
     "output_type": "stream",
     "text": [
      "torch.Size([1, 512, 64, 64])\n"
     ]
    }
   ],
   "source": [
    "from model.feature_network import LatentUpsampler\n",
    "featureBlock = LatentUpsampler().to('cuda:0')\n",
    "F = featureBlock(f)\n",
    "print(F.shape)"
   ]
  },
  {
   "cell_type": "code",
   "execution_count": 38,
   "id": "75ee5486-67cd-47a2-850e-396c47b9a091",
   "metadata": {
    "tags": []
   },
   "outputs": [],
   "source": [
    "import torch.nn as nn\n",
    "import torch \n",
    "from model.feature_network import conv1x1,tconv5x5,LatentUpsampler\n",
    "\n",
    "\n"
   ]
  },
  {
   "cell_type": "code",
   "execution_count": 36,
   "id": "20013151-7cba-46be-b808-ae547e908291",
   "metadata": {
    "tags": []
   },
   "outputs": [
    {
     "name": "stdout",
     "output_type": "stream",
     "text": [
      "torch.Size([1, 128, 16, 16])\n"
     ]
    }
   ],
   "source": [
    "res = aconv1(x)\n",
    "print(res.shape)"
   ]
  },
  {
   "cell_type": "code",
   "execution_count": 25,
   "id": "9a1c303a-d3a9-423d-b1a3-67eaac271dc2",
   "metadata": {
    "tags": []
   },
   "outputs": [
    {
     "name": "stdout",
     "output_type": "stream",
     "text": [
      "[  1.   2.   4.   8.  16.  32.  64. 128. 256.]\n",
      "21\n"
     ]
    }
   ],
   "source": [
    "max_posenc_log_scale =9\n",
    "embedding_size = 64\n",
    "\n",
    "bvals1 = 2.**np.arange(max_posenc_log_scale)\n",
    "bvals2 = 2.**np.linspace(0,max_posenc_log_scale,embedding_size//3) - 1\n",
    "\n",
    "print(bvals1)\n",
    "print(len(bvals2))"
   ]
  },
  {
   "cell_type": "code",
   "execution_count": 11,
   "id": "5e1a3ae8-4eca-4922-bfc3-366b4d6fba34",
   "metadata": {
    "tags": []
   },
   "outputs": [
    {
     "name": "stdout",
     "output_type": "stream",
     "text": [
      "[  0.           0.31950791   0.74110113   1.29739671   2.03143313\n",
      "   3.           4.27803164   5.96440451   8.18958684  11.12573253\n",
      "  15.          20.11212657  26.85761803  35.75834736  47.50293013\n",
      "  63.          83.44850629 110.4304721  146.03338944 193.01172051\n",
      " 255.        ]\n"
     ]
    }
   ],
   "source": [
    "import numpy as np \n",
    "max_posenc_log_scale =8 \n",
    "embedding_size = 64\n",
    "\n",
    "\n",
    "bvals = 2.**np.linspace(0,max_posenc_log_scale,embedding_size//3) - 1\n",
    "bvals = np.reshape(np.eye(3)*bvals[:,None,None], [len(bvals)*3, 3])\n",
    "avals = np.ones((bvals.shape[0]))\n",
    "    "
   ]
  },
  {
   "cell_type": "code",
   "execution_count": 12,
   "id": "9f4e5b2e-c1e7-4e57-ae0f-58ea7d38676d",
   "metadata": {
    "tags": []
   },
   "outputs": [
    {
     "name": "stdout",
     "output_type": "stream",
     "text": [
      "[[  0.           0.           0.        ]\n",
      " [  0.           0.           0.        ]\n",
      " [  0.           0.           0.        ]\n",
      " [  0.31950791   0.           0.        ]\n",
      " [  0.           0.31950791   0.        ]\n",
      " [  0.           0.           0.31950791]\n",
      " [  0.74110113   0.           0.        ]\n",
      " [  0.           0.74110113   0.        ]\n",
      " [  0.           0.           0.74110113]\n",
      " [  1.29739671   0.           0.        ]\n",
      " [  0.           1.29739671   0.        ]\n",
      " [  0.           0.           1.29739671]\n",
      " [  2.03143313   0.           0.        ]\n",
      " [  0.           2.03143313   0.        ]\n",
      " [  0.           0.           2.03143313]\n",
      " [  3.           0.           0.        ]\n",
      " [  0.           3.           0.        ]\n",
      " [  0.           0.           3.        ]\n",
      " [  4.27803164   0.           0.        ]\n",
      " [  0.           4.27803164   0.        ]\n",
      " [  0.           0.           4.27803164]\n",
      " [  5.96440451   0.           0.        ]\n",
      " [  0.           5.96440451   0.        ]\n",
      " [  0.           0.           5.96440451]\n",
      " [  8.18958684   0.           0.        ]\n",
      " [  0.           8.18958684   0.        ]\n",
      " [  0.           0.           8.18958684]\n",
      " [ 11.12573253   0.           0.        ]\n",
      " [  0.          11.12573253   0.        ]\n",
      " [  0.           0.          11.12573253]\n",
      " [ 15.           0.           0.        ]\n",
      " [  0.          15.           0.        ]\n",
      " [  0.           0.          15.        ]\n",
      " [ 20.11212657   0.           0.        ]\n",
      " [  0.          20.11212657   0.        ]\n",
      " [  0.           0.          20.11212657]\n",
      " [ 26.85761803   0.           0.        ]\n",
      " [  0.          26.85761803   0.        ]\n",
      " [  0.           0.          26.85761803]\n",
      " [ 35.75834736   0.           0.        ]\n",
      " [  0.          35.75834736   0.        ]\n",
      " [  0.           0.          35.75834736]\n",
      " [ 47.50293013   0.           0.        ]\n",
      " [  0.          47.50293013   0.        ]\n",
      " [  0.           0.          47.50293013]\n",
      " [ 63.           0.           0.        ]\n",
      " [  0.          63.           0.        ]\n",
      " [  0.           0.          63.        ]\n",
      " [ 83.44850629   0.           0.        ]\n",
      " [  0.          83.44850629   0.        ]\n",
      " [  0.           0.          83.44850629]\n",
      " [110.4304721    0.           0.        ]\n",
      " [  0.         110.4304721    0.        ]\n",
      " [  0.           0.         110.4304721 ]\n",
      " [146.03338944   0.           0.        ]\n",
      " [  0.         146.03338944   0.        ]\n",
      " [  0.           0.         146.03338944]\n",
      " [193.01172051   0.           0.        ]\n",
      " [  0.         193.01172051   0.        ]\n",
      " [  0.           0.         193.01172051]\n",
      " [255.           0.           0.        ]\n",
      " [  0.         255.           0.        ]\n",
      " [  0.           0.         255.        ]]\n"
     ]
    }
   ],
   "source": [
    "print(bvals)"
   ]
  },
  {
   "cell_type": "code",
   "execution_count": 13,
   "id": "7f29b803-b391-458a-baf3-8b47fc32d82d",
   "metadata": {
    "tags": []
   },
   "outputs": [
    {
     "name": "stdout",
     "output_type": "stream",
     "text": [
      "[[  1.   0.   0.]\n",
      " [  0.   1.   0.]\n",
      " [  0.   0.   1.]\n",
      " [  2.   0.   0.]\n",
      " [  0.   2.   0.]\n",
      " [  0.   0.   2.]\n",
      " [  4.   0.   0.]\n",
      " [  0.   4.   0.]\n",
      " [  0.   0.   4.]\n",
      " [  8.   0.   0.]\n",
      " [  0.   8.   0.]\n",
      " [  0.   0.   8.]\n",
      " [ 16.   0.   0.]\n",
      " [  0.  16.   0.]\n",
      " [  0.   0.  16.]\n",
      " [ 32.   0.   0.]\n",
      " [  0.  32.   0.]\n",
      " [  0.   0.  32.]\n",
      " [ 64.   0.   0.]\n",
      " [  0.  64.   0.]\n",
      " [  0.   0.  64.]\n",
      " [128.   0.   0.]\n",
      " [  0. 128.   0.]\n",
      " [  0.   0. 128.]]\n"
     ]
    }
   ],
   "source": [
    "bvals = 2.**np.arange(max_posenc_log_scale)\n",
    "bvals = np.reshape(np.eye(3)*bvals[:,None,None], [len(bvals)*3, 3])\n",
    "avals = np.ones((bvals.shape[0])) \n",
    "\n",
    "print(bvals)"
   ]
  }
 ],
 "metadata": {
  "kernelspec": {
   "display_name": "Python 3 (ipykernel)",
   "language": "python",
   "name": "python3"
  },
  "language_info": {
   "codemirror_mode": {
    "name": "ipython",
    "version": 3
   },
   "file_extension": ".py",
   "mimetype": "text/x-python",
   "name": "python",
   "nbconvert_exporter": "python",
   "pygments_lexer": "ipython3",
   "version": "3.9.16"
  }
 },
 "nbformat": 4,
 "nbformat_minor": 5
}
