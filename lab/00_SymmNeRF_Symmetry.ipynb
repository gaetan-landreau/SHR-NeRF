{
 "cells": [
  {
   "cell_type": "code",
   "execution_count": 1,
   "id": "c2c304ad-91b4-4f62-b0b8-9103f36082c1",
   "metadata": {},
   "outputs": [],
   "source": [
    "%load_ext autoreload\n",
    "%autoreload 2"
   ]
  },
  {
   "cell_type": "code",
   "execution_count": 2,
   "id": "0d923427-9763-41a6-9b1e-f00412d656dc",
   "metadata": {},
   "outputs": [],
   "source": [
    "import sys\n",
    "sys.path.append('../')\n",
    "sys.argv=[''] \n",
    "del sys"
   ]
  },
  {
   "cell_type": "code",
   "execution_count": 3,
   "id": "5b32ee0a-4e6c-4f39-8f00-bb7fb31058cd",
   "metadata": {},
   "outputs": [],
   "source": [
    "import os\n",
    "os.environ['CUDA_LAUNCH_BLOCKING'] = \"1\"\n",
    "os.environ['CUDA_DEVICES_VISIBLE']='0,1'"
   ]
  },
  {
   "cell_type": "code",
   "execution_count": 4,
   "id": "5c24f56e-f358-4a45-b4e0-3b924b65ebed",
   "metadata": {},
   "outputs": [
    {
     "name": "stdout",
     "output_type": "stream",
     "text": [
      "/root/SymmNeRF/code\n"
     ]
    }
   ],
   "source": [
    "cd \"/root/SymmNeRF/\""
   ]
  },
  {
   "cell_type": "code",
   "execution_count": 5,
   "id": "5576ade4-554a-42a9-8121-37ad71c8b110",
   "metadata": {},
   "outputs": [],
   "source": [
    "from opt import config_parser\n",
    "\n",
    "parser = config_parser()\n",
    "args = parser.parse_args()\n",
    "\n",
    "device = 'cuda:0'\n",
    "det = args.det\n",
    "lindisp = args.lindisp"
   ]
  },
  {
   "cell_type": "code",
   "execution_count": 6,
   "id": "9a171022-d5c2-41b1-ae2f-88532cb437a5",
   "metadata": {},
   "outputs": [],
   "source": [
    "from datasets import dataset_dict, create_training_dataset\n",
    "from torch.utils.data import DataLoader \n",
    "\n",
    "from model import model_dict  \n",
    "from model.sample_ray import RaySampler \n",
    "from model.render_ray import render_rays \n",
    "\n",
    "from utils_lab_fct import * \n",
    "\n",
    "import setproctitle\n",
    "import torch \n",
    "import numpy as np \n",
    "import cv2\n",
    "from einops import rearrange \n",
    "import matplotlib.pyplot as plt\n",
    "\n",
    "setproctitle.setproctitle('[Gaetan. - SymmNeRF]')"
   ]
  },
  {
   "cell_type": "markdown",
   "id": "1e92de66-d18d-4e57-b184-f8676c28eb4d",
   "metadata": {},
   "source": [
    "### Build up a DataLoader "
   ]
  },
  {
   "cell_type": "code",
   "execution_count": 7,
   "id": "f342152e-f799-4b4d-b7ba-09363d7d2551",
   "metadata": {},
   "outputs": [
    {
     "name": "stdout",
     "output_type": "stream",
     "text": [
      "[Info] Training dataset: srns_dataset\n",
      "[Info] Set used: test\n",
      "SRNsDataset:  /data/datasets/srn_cars/cars_train\n"
     ]
    }
   ],
   "source": [
    "bs = 10\n",
    "\n",
    "train_dataset, train_sampler = create_training_dataset(args)\n",
    "train_loader = DataLoader(train_dataset,batch_size = bs , sampler = train_sampler)\n",
    "\n",
    "it = iter(train_loader)\n",
    "train_batch = next(it)"
   ]
  },
  {
   "cell_type": "markdown",
   "id": "4af0daf2-b862-4238-ad43-f328d7136141",
   "metadata": {},
   "source": [
    "### Load the model "
   ]
  },
  {
   "cell_type": "code",
   "execution_count": 8,
   "id": "d3334ec7-e739-4cae-b46c-a55f9f24b4a5",
   "metadata": {},
   "outputs": [
    {
     "name": "stdout",
     "output_type": "stream",
     "text": [
      "[Info] Reloading from /root/SymmNeRF/logs/srns_dataset/cars/srns_cars/ckpts/model_300000.pth, starting at step=300000\n"
     ]
    }
   ],
   "source": [
    "model = model_dict['hypernerf_symm_local'](args,ckpts_folder = \"/root/SymmNeRF/logs/srns_dataset/cars/srns_cars/ckpts\")"
   ]
  },
  {
   "cell_type": "markdown",
   "id": "402f4f15-3794-454b-934d-fa145c001ac0",
   "metadata": {},
   "source": [
    "### Hyper-parameters. "
   ]
  },
  {
   "cell_type": "code",
   "execution_count": 9,
   "id": "288c266f-2ffb-4eb6-973f-e5aeb45ff9bc",
   "metadata": {},
   "outputs": [],
   "source": [
    "## Some constants. \n",
    "nb_rays = 256\n",
    "nb_sampled_points_on_rays = 64\n",
    "\n",
    "# First 2 dim. of the feature map F \n",
    "W_F, H_F = 64, 64"
   ]
  },
  {
   "cell_type": "markdown",
   "id": "aeee4576-24a4-491e-ad4a-bfd0e622002a",
   "metadata": {},
   "source": [
    "### Create a ray batch \n",
    "These two functions create a batch of rays to render (from the target view perspective) "
   ]
  },
  {
   "cell_type": "code",
   "execution_count": 10,
   "id": "3e77578c-b9aa-46e4-a453-8a45676313ba",
   "metadata": {},
   "outputs": [],
   "source": [
    "# RaySampler class instantiation.\n",
    "ray_sampler = RaySampler(train_batch) \n",
    "\n",
    "# Get the corresponding source images and poses.\n",
    "src_imgs = ray_sampler.src_img     # [B, 3, 128,128]\n",
    "tgt_imgs = ray_sampler.render_imgs # [B,NV,3,128,128]\n",
    "poses = ray_sampler.render_poses   # [B, NV, 4, 4 ]\n",
    "\n",
    "# Build up a batch of ray. \n",
    "ray_batch = ray_sampler.random_sample(nb_rays,use_bbox = True)"
   ]
  },
  {
   "cell_type": "markdown",
   "id": "aa3eb977-ad8a-4835-a685-11a973e508b4",
   "metadata": {},
   "source": [
    "### Get the latent code from the Source Images. \n",
    "The .encode() method encodes the RGB source images. Correspond to the f() network in the main paper. \n",
    "Each code is a 256d vector. "
   ]
  },
  {
   "cell_type": "code",
   "execution_count": 11,
   "id": "75b1208f-2878-422c-ad09-bf7ec3b8f130",
   "metadata": {},
   "outputs": [
    {
     "name": "stderr",
     "output_type": "stream",
     "text": [
      "/usr/local/lib/python3.8/dist-packages/torch/nn/functional.py:718: UserWarning: Named tensors and all their associated APIs are an experimental feature and subject to change. Please do not use them for anything important until they are released as stable. (Triggered internally at  /pytorch/c10/core/TensorImpl.h:1156.)\n",
      "  return torch.max_pool2d(input, kernel_size, stride, padding, dilation, ceil_mode)\n"
     ]
    }
   ],
   "source": [
    "z = model.encode(ray_batch)"
   ]
  },
  {
   "cell_type": "markdown",
   "id": "99355921-c0e6-4e08-97ff-ddfc887c8cd6",
   "metadata": {},
   "source": [
    "### Render the rays. \n",
    "Considering the rays that were sampled on this batch, render them according to symmetry plane that is defined (points are expressed in the source camera viewpoint). \n",
    "Volume rendering is also perfomed as well as a last final step. "
   ]
  },
  {
   "cell_type": "code",
   "execution_count": 14,
   "id": "d812b509-dd1b-4e84-a74e-9b22d67c0ebb",
   "metadata": {},
   "outputs": [],
   "source": [
    "from model.render_ray import sample_along_camera_ray, run_network, raw2outputs\n",
    "from model.nerf import run_nerf_symm_local\n",
    "from model.nerf_helpers import *\n",
    "\n",
    "rays_o = ray_batch['rays_o']    # [B,256,3]\n",
    "rays_d = ray_batch['rays_d']    # [B,256,3]\n",
    "z_near = ray_batch['z_near']\n",
    "z_far = ray_batch['z_far']\n",
    "\n",
    "noise = False \n",
    "\n",
    "#### 1. Get the 3D points ray, the viewdir and z sampled dist.\n",
    "pts, viewdirs, z_vals = sample_along_camera_ray(rays_o=rays_o,  # pts : [B,256,64,3] - viewdirs : [B,256,3] - z_vals : [B,256,64]\n",
    "                                                rays_d=rays_d,\n",
    "                                                z_near=z_near,\n",
    "                                                z_far=z_far,\n",
    "                                                device=device,\n",
    "                                                N_samples=nb_sampled_points_on_rays,\n",
    "                                                lindisp=lindisp, \n",
    "                                                det=det)\n",
    "\n",
    "#### 2. Get the NeRF weights according to the latent code z. \n",
    "nerf_coarse_layers = model.hypernetwork(z) \n",
    "\n",
    "M = torch.tensor([[-1, 0, 0],\n",
    "                  [0,1, 0],\n",
    "                  [0, 0, 1]], dtype=torch.float32).to(pts.device) # The original matrix M. \n",
    "\n",
    "### 3. Get a set of feature for experimental purpose ( F feature tensor, uv coordinates etc... ) \n",
    "ret_features = model.feature_net.index_experimental(pts, \n",
    "                                        ray_batch['src_pose'],\n",
    "                                        ray_batch['intrinsics'], \n",
    "                                        ray_batch['image_size'], \n",
    "                                        M,\n",
    "                                        noise)\n",
    "\n",
    "### 4. Concatenate the original feature with its symmetric. \n",
    "local_feature = torch.cat([ret_features['local_feature'],ret_features['local_feature_symm']],-1)\n",
    "\n",
    "\n",
    "### 5. Define the NeRF models (one for each image in the batch since they all have a different latent code z). \n",
    "nerf_coarse = lambda x: run_nerf_symm_local(x, nerf_layers=nerf_coarse_layers, input_ch=model.input_ch,\n",
    "                                                input_ch_views=model.input_ch_views,\n",
    "                                                local_feature_ch=1024)\n",
    "\n",
    "### 6. Do raw forward pass - rgb and alpha are not normalized correctly - Volume rendering was not performed yet. \n",
    "raw_coarse = run_network(pts,viewdirs,nerf_coarse,model.embed_fn,model.embeddirs_fn,local_feature)\n",
    "\n",
    "\n",
    "### 7. Perform the volume rendering to get proper output value. \n",
    "outputs_coarse = raw2outputs(raw_coarse,z_vals,ray_batch['rays_d'],device = device, raw_noise_std = 0.,white_bkgd = True)\n",
    "\n",
    "### 8. Get some output for better understanding. \n",
    "alpha = outputs_coarse['alpha']\n",
    "weights = outputs_coarse['weights']\n",
    "acc = outputs_coarse['acc']"
   ]
  },
  {
   "cell_type": "markdown",
   "id": "a5c85fe2-5396-42ca-8906-90825177dcd4",
   "metadata": {},
   "source": [
    "## 1. Rays projection on F. "
   ]
  },
  {
   "cell_type": "markdown",
   "id": "af9a52b6-8580-4410-8b5f-b16ec4013e6d",
   "metadata": {},
   "source": [
    "#### 1.1 Retrive the uv coordinates of the rays on F plane, the feature tensor F and corresponding feature."
   ]
  },
  {
   "cell_type": "code",
   "execution_count": 15,
   "id": "fa6dbc2b-dc1b-4607-8010-1922a7b1c457",
   "metadata": {},
   "outputs": [],
   "source": [
    "uv = torch.reshape(ret_features['uv'],(bs,nb_rays,nb_sampled_points_on_rays,1,2)).squeeze() # uv has its coord in [-1,1]. \n",
    "uv_sym = torch.reshape(ret_features['uv_symm'],(bs,nb_rays,nb_sampled_points_on_rays,1,2)).squeeze()\n",
    "\n",
    "F = model.feature_net.latent # [bs,512,H/2,W/2]\n",
    "\n",
    "f_uv = torch.reshape(ret_features['local_feature'], (bs,nb_rays,nb_sampled_points_on_rays,512))          # [bs,Nrays,Npoints,512]\n",
    "f_uv_sym = torch.reshape(ret_features['local_feature_symm'],(bs,nb_rays,nb_sampled_points_on_rays,512)) # [bs,Nrays,Npoints,512]"
   ]
  },
  {
   "cell_type": "markdown",
   "id": "d634a976-5fb6-4d92-8c3f-5a8619ab9f18",
   "metadata": {},
   "source": [
    "#### 1.2 Get projected ray on the first slice of F for a single instance (with a single ray). "
   ]
  },
  {
   "cell_type": "code",
   "execution_count": 16,
   "id": "ee94d83f-6573-499d-aaf8-a4f79966f707",
   "metadata": {},
   "outputs": [
    {
     "name": "stderr",
     "output_type": "stream",
     "text": [
      "/usr/local/lib/python3.8/dist-packages/torch/_tensor.py:575: UserWarning: floor_divide is deprecated, and will be removed in a future version of pytorch. It currently rounds toward 0 (like the 'trunc' function NOT 'floor'). This results in incorrect rounding for negative values.\n",
      "To keep the current behavior, use torch.div(a, b, rounding_mode='trunc'), or for actual floor division, use torch.div(a, b, rounding_mode='floor'). (Triggered internally at  /pytorch/aten/src/ATen/native/BinaryOps.cpp:467.)\n",
      "  return torch.floor_divide(self, other)\n"
     ]
    }
   ],
   "source": [
    "ray_idx = np.random.randint(nb_rays)\n",
    "bs_chosen = np.random.randint(bs)\n",
    "\n",
    "### 1. Consider the uv rendered coord. of a single ray and its symmetric. \n",
    "uv_single_ray = uv[bs_chosen,ray_idx,:]\n",
    "uv_symm_single_ray = uv_sym[bs_chosen,ray_idx,:]\n",
    "\n",
    "x,y  = renormalize_feature(uv_single_ray,H_F,W_F)\n",
    "x_s,y_s = renormalize_feature(uv_symm_single_ray,H_F,W_F)\n",
    "\n",
    "### 2. Extract F0 and make it as an RGB image on 3 channels for illustrative purpose. \n",
    "F0 = F[bs_chosen,0,:,:].squeeze().detach().cpu().numpy()\n",
    "F0 = np.stack((F0,)*3, axis=-1)  \n",
    "\n",
    "### 3. Get the corresponding source image Is that was sampled. \n",
    "img_src = rearrange(src_imgs[bs_chosen,:].squeeze(), ' c h w -> h w c')\n",
    "Is = np_from_tensor(img_src)\n",
    "\n",
    "### 4. Retrieve the corresponding target Image It and the corresponding pixel that was sampled. \n",
    "view_idx_tgt = ray_batch['select_inds'][bs_chosen][ray_idx]//(128*128)\n",
    "img_tgt = rearrange(tgt_imgs[bs_chosen,view_idx_tgt].squeeze(), 'c h w -> h w c')\n",
    "It = np_from_tensor(img_tgt)\n",
    "\n",
    "raw_pixs = ray_batch['pixs'][bs_chosen]\n",
    "sampled_view = raw_pixs[ray_idx,0]\n",
    "pix_tgt = raw_pixs[ray_idx,1:].numpy()"
   ]
  },
  {
   "cell_type": "markdown",
   "id": "e03b42e8-3c5d-45e7-b050-759e25d5d518",
   "metadata": {},
   "source": [
    "#### 1.3 Ensure it exists some 3D points pair that share similar projected feature on F.  \n",
    "Considering a single target ray that would be sampled, get consideration for the 64 3D points that were drawn along this ray. \n",
    "1. Compute their symmetric counter-parter according to M. \n",
    "2. For each pair of points, compute their corresponding feature. \n",
    "3. Define and compute a feature-similarity for each pair, and show in which extent their share similar semantic content on the image. "
   ]
  },
  {
   "cell_type": "code",
   "execution_count": 17,
   "id": "380f7a52-7643-4194-b249-cb15c41b3eb2",
   "metadata": {},
   "outputs": [],
   "source": [
    "list_feature_norm = []\n",
    "for i in range(nb_sampled_points_on_rays):\n",
    "    \n",
    "    f = f_uv[bs_chosen,ray_idx,i,:]\n",
    "    fs = f_uv_sym[bs_chosen,ray_idx,i,:]\n",
    "    \n",
    "    diff_feature = torch.linalg.norm(f-fs)\n",
    "    list_feature_norm.append(diff_feature.cpu().detach().numpy())\n",
    "\n",
    "\n",
    "min_ray_index = np.argmin(list_feature_norm) # Get the sample that minimize f_uv - f_uv_sym\n",
    "max_ray_index = np.argmax(list_feature_norm) # Get the sample that maximize f_uv - f_uv_sym\n",
    "\n",
    "dict_coord = get_min_max_pix_loc(min_ray_index,max_ray_index,x,y,x_s,y_s)\n",
    "\n",
    "is_same_min_location = ((dict_coord['ymin'] ==dict_coord['ymin_s']) and (dict_coord['xmin'] == dict_coord['xmin_s']))"
   ]
  },
  {
   "cell_type": "markdown",
   "id": "885ec23d-2a7b-4c01-8c1d-e58fb89e4e1f",
   "metadata": {},
   "source": [
    "#### 1.5 Plot "
   ]
  },
  {
   "cell_type": "code",
   "execution_count": 20,
   "id": "244d0796-465a-420a-ae4c-50f3573f064c",
   "metadata": {},
   "outputs": [
    {
     "data": {
      "image/png": "[encoded data removed]",
      "text/plain": [
       "<Figure size 1440x360 with 3 Axes>"
      ]
     },
     "metadata": {
      "needs_background": "light"
     },
     "output_type": "display_data"
    },
    {
     "name": "stdout",
     "output_type": "stream",
     "text": [
      "Minimal ray index found: 23\n",
      "Maximal ray index found: 7\n"
     ]
    }
   ],
   "source": [
    "w = weights[bs_chosen,ray_idx,:].detach().cpu().numpy()\n",
    "a = alpha[bs_chosen,ray_idx,:].detach().cpu().numpy()\n",
    "\n",
    "fig, (ax1, ax2,ax3) = plt.subplots(1, 3, figsize=(20, 5))\n",
    "\n",
    "ax1.grid()\n",
    "ax2.grid()\n",
    "ax3.grid()\n",
    "\n",
    "ax1.set_xlabel('Ray index', fontsize=16)\n",
    "ax1.set_ylabel('||f-fs||\\u2082', fontsize=16)\n",
    "ax2.set_xlabel('Ray index', fontsize=16)\n",
    "ax2.set_ylabel(r'$\\alpha$', fontsize=16)\n",
    "ax3.set_xlabel('Ray index', fontsize=16)\n",
    "ax3.set_ylabel(r'T$\\alpha$', fontsize=16)\n",
    "\n",
    "ax1.scatter([i for i in range(64)],list_feature_norm,marker = '+',c='#d62728')\n",
    "ax2.scatter([i for i in range(64)],a,marker = '+',c='#d62728')\n",
    "ax2.plot([i for i in range(64)],a, linewidth=1, alpha=0.5)\n",
    "ax3.scatter([i for i in range(64)],w,marker = '+',c='#d62728')\n",
    "ax3.plot([i for i in range(64)],w, linewidth=1, alpha=0.5)\n",
    "plt.show()\n",
    "\n",
    "print(f'Minimal ray index found: {min_ray_index}') \n",
    "print(f'Maximal ray index found: {max_ray_index}') "
   ]
  },
  {
   "cell_type": "code",
   "execution_count": 21,
   "id": "1a01c100-1ea0-4e77-871a-026b69c84d8c",
   "metadata": {},
   "outputs": [
    {
     "name": "stderr",
     "output_type": "stream",
     "text": [
      "Clipping input data to the valid range for imshow with RGB data ([0..1] for floats or [0..255] for integers).\n",
      "Clipping input data to the valid range for imshow with RGB data ([0..1] for floats or [0..255] for integers).\n",
      "Clipping input data to the valid range for imshow with RGB data ([0..1] for floats or [0..255] for integers).\n"
     ]
    },
    {
     "name": "stdout",
     "output_type": "stream",
     "text": [
      "Number of valid sample: 64\n",
      "Number of symmetric valid sample: 64\n"
     ]
    },
    {
     "data": {
      "image/png": "[encoded data removed]",
      "text/plain": [
       "<Figure size 1440x720 with 4 Axes>"
      ]
     },
     "metadata": {
      "needs_background": "light"
     },
     "output_type": "display_data"
    }
   ],
   "source": [
    "fig, (ax1, ax2,ax3,ax4) = plt.subplots(1, 4, figsize=(20, 10))\n",
    "\n",
    "# Draw all required informations on the source, target images and F0\n",
    "Is_b = draw_loc_on_Is(Is,dict_coord,is_same_min_location)\n",
    "It_b = draw_sampled_pixel_on_It(It,pix_tgt)\n",
    "F0_b = draw_projected_ray_on_F0(x,y,x_s,y_s,F0,nb_sampled_points_on_rays)\n",
    "\n",
    "ax1.imshow(Is)\n",
    "ax2.imshow(It_b)\n",
    "ax3.imshow(F0_b,cmap='gray')\n",
    "ax4.imshow(Is_b)\n",
    "\n",
    "plt.show()"
   ]
  },
  {
   "cell_type": "code",
   "execution_count": null,
   "id": "4f1a84c9-0e72-4c5e-9794-ea324e16d05e",
   "metadata": {},
   "outputs": [],
   "source": []
  }
 ],
 "metadata": {
  "kernelspec": {
   "display_name": "Python 3 (ipykernel)",
   "language": "python",
   "name": "python3"
  },
  "language_info": {
   "codemirror_mode": {
    "name": "ipython",
    "version": 3
   },
   "file_extension": ".py",
   "mimetype": "text/x-python",
   "name": "python",
   "nbconvert_exporter": "python",
   "pygments_lexer": "ipython3",
   "version": "3.9.16"
  }
 },
 "nbformat": 4,
 "nbformat_minor": 5
}
