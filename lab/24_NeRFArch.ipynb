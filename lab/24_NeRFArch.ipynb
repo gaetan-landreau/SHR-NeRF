{
 "cells": [
  {
   "cell_type": "code",
   "execution_count": 1,
   "id": "b25a2202-24e7-495b-9861-995a773acfe3",
   "metadata": {
    "tags": []
   },
   "outputs": [],
   "source": [
    "%load_ext autoreload\n",
    "%autoreload 2"
   ]
  },
  {
   "cell_type": "code",
   "execution_count": 2,
   "id": "9e1d05e9-5980-4fba-a89f-07abc17db3ed",
   "metadata": {
    "tags": []
   },
   "outputs": [],
   "source": [
    "import sys\n",
    "sys.path.append('../')\n",
    "sys.argv=[''] \n",
    "del sys"
   ]
  },
  {
   "cell_type": "code",
   "execution_count": 3,
   "id": "e8b102fc-f511-41d7-a372-334c8ff85102",
   "metadata": {
    "tags": []
   },
   "outputs": [
    {
     "name": "stdout",
     "output_type": "stream",
     "text": [
      "/root/SymmNeRF-baseline/code\n"
     ]
    }
   ],
   "source": [
    "cd \"/root/SymmNeRF-baseline/code\""
   ]
  },
  {
   "cell_type": "code",
   "execution_count": 4,
   "id": "5704b273-9e04-453f-9ca9-b1831b2967f1",
   "metadata": {
    "tags": []
   },
   "outputs": [],
   "source": [
    "import setproctitle\n",
    "from opt import config_parser\n",
    "import torch \n",
    "import numpy as np \n",
    "import matplotlib.pyplot as plt \n",
    "import setproctitle\n",
    "import tqdm \n",
    "from utils.general import * \n",
    "parser = config_parser()\n",
    "args = parser.parse_args()\n",
    "\n",
    "device = torch.device(\"cuda:1\")\n",
    "args.archCNN = 'resnet34'\n",
    "\n",
    "det = args.det\n",
    "lindisp = args.lindisp\n",
    "args.distributed = False\n",
    "args.local_feature_ch = 512\n",
    "args.local_rank = 1\n",
    "args.eval_scene = 'cars'\n",
    "args.eval_dataset = 'srns_dataset'\n",
    "args.num_local_layers = 2\n",
    "args.no_load_opt = True\n",
    "args.no_load_scheduler = True\n",
    "\n",
    "\n",
    "args.enforce_symmetry = {'status':False,\n",
    "                         'on_coarse':False,'on_fine':False,\n",
    "                         'concatenate_on_coarse':False, 'concatenate_on_fine':False}\n",
    "\n",
    "args.module_with_cosine = {'use':False,'G':16}\n",
    "\n",
    "setproctitle.setproctitle('[Gaetan - DeepLabV3 encoder]')"
   ]
  },
  {
   "cell_type": "code",
   "execution_count": 5,
   "id": "b7931142-e678-441f-8de7-004dc8e9deca",
   "metadata": {
    "tags": []
   },
   "outputs": [
    {
     "name": "stdout",
     "output_type": "stream",
     "text": [
      "[INFO] Using ResNet MLP to generate the weights of the NeRF. [INFO]\n",
      "[INFO] Using DeepLabV3 as CNN feature extractor. [INFO]\n",
      "[Info] No ckpts found, training from scratch...\n"
     ]
    }
   ],
   "source": [
    "from model.model import HyperNeRFResNetSymmLocal \n",
    "\n",
    "args.use_deepLabv3 = True\n",
    "args.discard_hypernetworks = True\n",
    "\n",
    "model= HyperNeRFResNetSymmLocal(args,ckpts_folder = '')"
   ]
  },
  {
   "cell_type": "code",
   "execution_count": 6,
   "id": "54fcc7ae-725e-4f6f-a209-337fa6ad8e12",
   "metadata": {
    "tags": []
   },
   "outputs": [
    {
     "name": "stdout",
     "output_type": "stream",
     "text": [
      "[Info] Training dataset: srns_dataset\n",
      "[Info] Loading SRNs dataset: /data/srn_cars/cars_train\n"
     ]
    }
   ],
   "source": [
    "from datasets import dataset_dict, create_training_dataset\n",
    "from torch.utils.data import DataLoader \n",
    "\n",
    "bs = 2\n",
    "\n",
    "train_dataset, train_sampler = create_training_dataset(args)\n",
    "train_loader = DataLoader(train_dataset,batch_size = bs , sampler = train_sampler,shuffle=True)"
   ]
  },
  {
   "cell_type": "code",
   "execution_count": 7,
   "id": "e0ac2c0f-334d-426f-ae3f-c742f4c6156f",
   "metadata": {
    "tags": []
   },
   "outputs": [
    {
     "name": "stderr",
     "output_type": "stream",
     "text": [
      "/usr/local/lib/python3.9/dist-packages/torch/functional.py:568: UserWarning: torch.meshgrid: in an upcoming release, it will be required to pass the indexing argument. (Triggered internally at  ../aten/src/ATen/native/TensorShape.cpp:2228.)\n",
      "  return _VF.meshgrid(tensors, **kwargs)  # type: ignore[attr-defined]\n"
     ]
    }
   ],
   "source": [
    "from model.sample_ray import RaySampler\n",
    "from utils.general import cycle\n",
    "\n",
    "# Get another iteration on the Dataloader\n",
    "it = iter(train_loader)\n",
    "train_batch = it.next()\n",
    "\n",
    "# RaySampler class instantiation.\n",
    "ray_sampler = RaySampler(train_batch) \n",
    "\n",
    "# Number of rays and number of points sampled alogn each ray.\n",
    "nb_rays = 64\n",
    "nb_sampled_points_on_rays = 256\n",
    "\n",
    "# Build up a batch of ray. \n",
    "ray_batch = ray_sampler.random_sample(nb_rays,use_bbox = True,device = device)"
   ]
  },
  {
   "cell_type": "code",
   "execution_count": 8,
   "id": "fcda463d-69a1-4f1f-93f0-82eeec52265a",
   "metadata": {
    "tags": []
   },
   "outputs": [
    {
     "name": "stdout",
     "output_type": "stream",
     "text": [
      "cuda:1\n"
     ]
    }
   ],
   "source": [
    "from model.render_ray import sample_along_camera_ray\n",
    "\n",
    "rays_o = ray_batch['rays_o']    # [B,256,3]\n",
    "rays_d = ray_batch['rays_d']    # [B,256,3]\n",
    "z_near = ray_batch['z_near']\n",
    "z_far = ray_batch['z_far']\n",
    "\n",
    "noise = False \n",
    "\n",
    "#### 1. Get the 3D points ray, the viewdir and z sampled dist.\n",
    "pts, viewdirs, z_vals = sample_along_camera_ray(rays_o=rays_o,  # pts : [B,256,64,3] - viewdirs : [B,256,3] - z_vals : [B,256,64]\n",
    "                                                rays_d=rays_d,\n",
    "                                                z_near=z_near,\n",
    "                                                z_far=z_far,\n",
    "                                                device=device,\n",
    "                                                N_samples=nb_sampled_points_on_rays,\n",
    "                                                lindisp=lindisp, \n",
    "                                                det=det)\n",
    "z = model.encode(ray_batch['src_img'])\n",
    "ret = model.feature_net.index(pts,ray_batch)\n",
    "\n",
    "print(pts.device)"
   ]
  },
  {
   "cell_type": "code",
   "execution_count": 15,
   "id": "f4896347-1341-42c0-b29c-bf311a4faaf0",
   "metadata": {
    "tags": []
   },
   "outputs": [
    {
     "name": "stdout",
     "output_type": "stream",
     "text": [
      "Shape of viewdirs: torch.Size([2, 64, 3])\n",
      "Shape of pts: torch.Size([2, 64, 256, 3])\n",
      "torch.Size([2, 64, 1, 3])\n"
     ]
    }
   ],
   "source": [
    "from model.render_ray import get_symmetric_points_and_directions\n",
    "\n",
    "print(f'Shape of viewdirs: {viewdirs.shape}')\n",
    "print(f'Shape of pts: {pts.shape}')\n",
    "\n",
    "M = model.get_symmetry_matrix()\n",
    "      \n",
    "ptsS,viewdirsS = get_symmetric_points_and_directions(pts,viewdirs,M)\n",
    "print(rays_d[...,None,:].shape)"
   ]
  },
  {
   "cell_type": "code",
   "execution_count": 9,
   "id": "422ab20f-6423-42e0-86b6-f12006fa65d1",
   "metadata": {
    "tags": []
   },
   "outputs": [
    {
     "name": "stdout",
     "output_type": "stream",
     "text": [
      "torch.Size([2, 64, 256, 518])\n"
     ]
    }
   ],
   "source": [
    "from einops import rearrange,repeat\n",
    "\n",
    "N_rays = rays_d.shape[1]\n",
    "batch = rays_d.shape[0]\n",
    "        \n",
    "rgb = ret['rgb']\n",
    "f_coarse = ret['feat']\n",
    "f_coarse_s = ret['feat_s']\n",
    "\n",
    "xyz_c = ret['xyz_c'] # 3D points sampled from target view expressed in source view coordinates.\n",
    "xyz_c = rearrange(xyz_c,'b (nr ns) ch -> b nr ns ch', nr=nb_rays,ns= nb_sampled_points_on_rays)\n",
    "        \n",
    "dirs = repeat(ray_batch['rays_d'], 'b nr c -> b nr ns c', ns=nb_sampled_points_on_rays)\n",
    "dir_c = model.feature_net.compute_dir(dirs, ray_batch)  \n",
    "        \n",
    "rgb= rearrange(rgb,'b (nr ns) rgb -> b nr ns rgb', nr=nb_rays,ns= nb_sampled_points_on_rays)\n",
    "f_coarse = rearrange(f_coarse,'b (nr ns) c -> b nr ns c', nr=nb_rays,ns= nb_sampled_points_on_rays)\n",
    "f_coarse_s = rearrange(f_coarse_s,'b (nr ns) c -> b nr ns c', nr=nb_rays,ns= nb_sampled_points_on_rays)\n",
    "     \n",
    "# Compute the symmetric points and directions\n",
    "feat = torch.cat([f_coarse,f_coarse_s,rgb,dir_c],-1)\n",
    "\n",
    "print(feat.shape)"
   ]
  },
  {
   "cell_type": "code",
   "execution_count": 10,
   "id": "0042c67c-c397-445d-8493-56dbf91c5df9",
   "metadata": {
    "tags": []
   },
   "outputs": [],
   "source": [
    "raw_coarse = model.coarse_net(xyz_c.flatten(0, 1), feat.flatten(0, 1))   # [batch*N_rays*N_samples, 4]\n",
    "raw_coarse = raw_coarse.reshape([batch, nb_rays, nb_sampled_points_on_rays, 4])        "
   ]
  },
  {
   "cell_type": "code",
   "execution_count": 9,
   "id": "42ca2fc8-cba0-4e4a-9640-948e214c8a6b",
   "metadata": {
    "tags": []
   },
   "outputs": [
    {
     "name": "stdout",
     "output_type": "stream",
     "text": [
      "Device for pts: cuda:1\n"
     ]
    },
    {
     "name": "stderr",
     "output_type": "stream",
     "text": [
      "../aten/src/ATen/native/cuda/ScatterGatherKernel.cu:111: operator(): block: [26,0,0], thread: [96,0,0] Assertion `idx_dim >= 0 && idx_dim < index_size && \"index out of bounds\"` failed.\n",
      "../aten/src/ATen/native/cuda/ScatterGatherKernel.cu:111: operator(): block: [26,0,0], thread: [97,0,0] Assertion `idx_dim >= 0 && idx_dim < index_size && \"index out of bounds\"` failed.\n",
      "../aten/src/ATen/native/cuda/ScatterGatherKernel.cu:111: operator(): block: [26,0,0], thread: [102,0,0] Assertion `idx_dim >= 0 && idx_dim < index_size && \"index out of bounds\"` failed.\n",
      "../aten/src/ATen/native/cuda/ScatterGatherKernel.cu:111: operator(): block: [26,0,0], thread: [103,0,0] Assertion `idx_dim >= 0 && idx_dim < index_size && \"index out of bounds\"` failed.\n",
      "../aten/src/ATen/native/cuda/ScatterGatherKernel.cu:111: operator(): block: [26,0,0], thread: [114,0,0] Assertion `idx_dim >= 0 && idx_dim < index_size && \"index out of bounds\"` failed.\n",
      "../aten/src/ATen/native/cuda/ScatterGatherKernel.cu:111: operator(): block: [26,0,0], thread: [115,0,0] Assertion `idx_dim >= 0 && idx_dim < index_size && \"index out of bounds\"` failed.\n",
      "../aten/src/ATen/native/cuda/ScatterGatherKernel.cu:111: operator(): block: [26,0,0], thread: [116,0,0] Assertion `idx_dim >= 0 && idx_dim < index_size && \"index out of bounds\"` failed.\n",
      "../aten/src/ATen/native/cuda/ScatterGatherKernel.cu:111: operator(): block: [26,0,0], thread: [117,0,0] Assertion `idx_dim >= 0 && idx_dim < index_size && \"index out of bounds\"` failed.\n",
      "../aten/src/ATen/native/cuda/ScatterGatherKernel.cu:111: operator(): block: [26,0,0], thread: [118,0,0] Assertion `idx_dim >= 0 && idx_dim < index_size && \"index out of bounds\"` failed.\n",
      "../aten/src/ATen/native/cuda/ScatterGatherKernel.cu:111: operator(): block: [26,0,0], thread: [119,0,0] Assertion `idx_dim >= 0 && idx_dim < index_size && \"index out of bounds\"` failed.\n",
      "../aten/src/ATen/native/cuda/ScatterGatherKernel.cu:111: operator(): block: [26,0,0], thread: [120,0,0] Assertion `idx_dim >= 0 && idx_dim < index_size && \"index out of bounds\"` failed.\n",
      "../aten/src/ATen/native/cuda/ScatterGatherKernel.cu:111: operator(): block: [26,0,0], thread: [121,0,0] Assertion `idx_dim >= 0 && idx_dim < index_size && \"index out of bounds\"` failed.\n"
     ]
    },
    {
     "ename": "NameError",
     "evalue": "name 'exit' is not defined",
     "output_type": "error",
     "traceback": [
      "\u001b[0;31m---------------------------------------------------------------------------\u001b[0m",
      "\u001b[0;31mNameError\u001b[0m                                 Traceback (most recent call last)",
      "Cell \u001b[0;32mIn[9], line 3\u001b[0m\n\u001b[1;32m      1\u001b[0m \u001b[38;5;28;01mfrom\u001b[39;00m \u001b[38;5;21;01mmodel\u001b[39;00m\u001b[38;5;21;01m.\u001b[39;00m\u001b[38;5;21;01mrender_ray\u001b[39;00m \u001b[38;5;28;01mimport\u001b[39;00m render_rays\n\u001b[1;32m      2\u001b[0m cosine_mod \u001b[38;5;241m=\u001b[39m {\u001b[38;5;124m'\u001b[39m\u001b[38;5;124muse\u001b[39m\u001b[38;5;124m'\u001b[39m:\u001b[38;5;28;01mFalse\u001b[39;00m}\n\u001b[0;32m----> 3\u001b[0m ret_out \u001b[38;5;241m=\u001b[39m \u001b[43mrender_rays\u001b[49m\u001b[43m(\u001b[49m\u001b[43mray_batch\u001b[49m\u001b[43m,\u001b[49m\u001b[43mmodel\u001b[49m\u001b[43m,\u001b[49m\u001b[43mdevice\u001b[49m\u001b[43m,\u001b[49m\u001b[43mz\u001b[49m\u001b[43m,\u001b[49m\u001b[43m{\u001b[49m\u001b[43m}\u001b[49m\u001b[43m,\u001b[49m\u001b[43mnb_sampled_points_on_rays\u001b[49m\u001b[43m,\u001b[49m\u001b[43mcosine_mod\u001b[49m\u001b[43m,\u001b[49m\u001b[43muse_ray_transformer\u001b[49m\u001b[38;5;241;43m=\u001b[39;49m\u001b[38;5;28;43;01mFalse\u001b[39;49;00m\u001b[43m,\u001b[49m\u001b[43mN_importance\u001b[49m\u001b[38;5;241;43m=\u001b[39;49m\u001b[38;5;241;43m64\u001b[39;49m\u001b[43m)\u001b[49m\n",
      "File \u001b[0;32m~/SymmNeRF-baseline/code/model/render_ray.py:231\u001b[0m, in \u001b[0;36mrender_rays\u001b[0;34m(ray_batch, model, device, latent_vector, enforceSymm, N_samples, cosine_mod, use_ray_transformer, lindisp, N_importance, det, raw_noise_std, white_bkgd, shape_codes, texture_codes, noise)\u001b[0m\n\u001b[1;32m    229\u001b[0m pts \u001b[38;5;241m=\u001b[39m rays_o[\u001b[38;5;241m.\u001b[39m\u001b[38;5;241m.\u001b[39m\u001b[38;5;241m.\u001b[39m, \u001b[38;5;28;01mNone\u001b[39;00m, :] \u001b[38;5;241m+\u001b[39m rays_d[\u001b[38;5;241m.\u001b[39m\u001b[38;5;241m.\u001b[39m\u001b[38;5;241m.\u001b[39m, \u001b[38;5;28;01mNone\u001b[39;00m, :] \u001b[38;5;241m*\u001b[39m z_vals[\u001b[38;5;241m.\u001b[39m\u001b[38;5;241m.\u001b[39m\u001b[38;5;241m.\u001b[39m, :, \u001b[38;5;28;01mNone\u001b[39;00m]  \u001b[38;5;66;03m# [N_rays, N_samples + N_importance, 3]\u001b[39;00m\n\u001b[1;32m    230\u001b[0m \u001b[38;5;28mprint\u001b[39m(\u001b[38;5;124mf\u001b[39m\u001b[38;5;124m'\u001b[39m\u001b[38;5;124mDevice for pts: \u001b[39m\u001b[38;5;132;01m{\u001b[39;00mpts\u001b[38;5;241m.\u001b[39mdevice\u001b[38;5;132;01m}\u001b[39;00m\u001b[38;5;124m'\u001b[39m) \n\u001b[0;32m--> 231\u001b[0m \u001b[43mexit\u001b[49m()\n\u001b[1;32m    232\u001b[0m ret_fine \u001b[38;5;241m=\u001b[39m model\u001b[38;5;241m.\u001b[39mfeature_net\u001b[38;5;241m.\u001b[39mindex(pts, ray_batch)\n\u001b[1;32m    234\u001b[0m raw_fine \u001b[38;5;241m=\u001b[39m run_nerf_through_hypernetwork(pts, viewdirs, model,ret_fine,latent_vector,which_nerf \u001b[38;5;241m=\u001b[39m\u001b[38;5;124m'\u001b[39m\u001b[38;5;124mfine\u001b[39m\u001b[38;5;124m'\u001b[39m) \u001b[38;5;28;01mif\u001b[39;00m use_hypernetworks \u001b[38;5;28;01melse\u001b[39;00m \\\n\u001b[1;32m    235\u001b[0m            run_nerf_through_resnet(pts, ray_batch, model,ret_fine,which_nerf \u001b[38;5;241m=\u001b[39m\u001b[38;5;124m'\u001b[39m\u001b[38;5;124mfine\u001b[39m\u001b[38;5;124m'\u001b[39m)\n",
      "\u001b[0;31mNameError\u001b[0m: name 'exit' is not defined"
     ]
    }
   ],
   "source": [
    "from model.render_ray import render_rays\n",
    "cosine_mod = {'use':False}\n",
    "ret_out = render_rays(ray_batch,model,device,z,{},nb_sampled_points_on_rays,cosine_mod,use_ray_transformer=False,N_importance=64)"
   ]
  },
  {
   "cell_type": "code",
   "execution_count": 36,
   "id": "849927a6-5980-4e3f-b1d2-e5fce436b023",
   "metadata": {
    "tags": []
   },
   "outputs": [
    {
     "ename": "AttributeError",
     "evalue": "'NoneType' object has no attribute 'keys'",
     "output_type": "error",
     "traceback": [
      "\u001b[0;31m---------------------------------------------------------------------------\u001b[0m",
      "\u001b[0;31mAttributeError\u001b[0m                            Traceback (most recent call last)",
      "Cell \u001b[0;32mIn[36], line 1\u001b[0m\n\u001b[0;32m----> 1\u001b[0m \u001b[38;5;28mprint\u001b[39m(\u001b[43mret_out\u001b[49m\u001b[43m[\u001b[49m\u001b[38;5;124;43m'\u001b[39;49m\u001b[38;5;124;43moutputs_fine\u001b[39;49m\u001b[38;5;124;43m'\u001b[39;49m\u001b[43m]\u001b[49m\u001b[38;5;241;43m.\u001b[39;49m\u001b[43mkeys\u001b[49m())\n",
      "\u001b[0;31mAttributeError\u001b[0m: 'NoneType' object has no attribute 'keys'"
     ]
    }
   ],
   "source": [
    "print(ret_out['outputs_fine'].keys())"
   ]
  }
 ],
 "metadata": {
  "kernelspec": {
   "display_name": "Python 3 (ipykernel)",
   "language": "python",
   "name": "python3"
  },
  "language_info": {
   "codemirror_mode": {
    "name": "ipython",
    "version": 3
   },
   "file_extension": ".py",
   "mimetype": "text/x-python",
   "name": "python",
   "nbconvert_exporter": "python",
   "pygments_lexer": "ipython3",
   "version": "3.9.16"
  }
 },
 "nbformat": 4,
 "nbformat_minor": 5
}
