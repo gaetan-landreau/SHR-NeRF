{
 "cells": [
  {
   "cell_type": "code",
   "execution_count": 1,
   "id": "056c4669-3a3e-46c1-8f04-e5cb749a69fb",
   "metadata": {
    "tags": []
   },
   "outputs": [],
   "source": [
    "%load_ext autoreload\n",
    "%autoreload 2"
   ]
  },
  {
   "cell_type": "code",
   "execution_count": 2,
   "id": "7191ea79-fe36-4f2a-8323-6aca0d3d66e4",
   "metadata": {
    "tags": []
   },
   "outputs": [],
   "source": [
    "import sys\n",
    "sys.path.append('../')\n",
    "sys.argv=[''] \n",
    "del sys"
   ]
  },
  {
   "cell_type": "code",
   "execution_count": 5,
   "id": "56473c01-5fe5-4d29-962c-26a009b9dda1",
   "metadata": {
    "tags": []
   },
   "outputs": [
    {
     "name": "stdout",
     "output_type": "stream",
     "text": [
      "/root/SymmNeRF-baseline/code\n"
     ]
    }
   ],
   "source": [
    "cd '/root/SymmNeRF-baseline/code/'"
   ]
  },
  {
   "cell_type": "code",
   "execution_count": 41,
   "id": "64a3df0b-e2ab-4151-9384-cacd09a97e48",
   "metadata": {
    "tags": []
   },
   "outputs": [
    {
     "name": "stdout",
     "output_type": "stream",
     "text": [
      "Original f1 tensor: tensor([[[0.7804, 0.4787, 0.3530, 0.7954, 0.0462, 0.4543, 0.4527, 0.3520,\n",
      "          0.7821, 0.0903]]])\n",
      "Original f2 tensor: tensor([[[0.3504, 0.0338, 0.3736, 0.6599, 0.2324, 0.6651, 0.3398, 0.1097,\n",
      "          0.4641, 0.9553]]])\n",
      "Tensor f_split: tensor([[[[0.7804, 0.4787, 0.3530, 0.7954, 0.0462],\n",
      "          [0.4543, 0.4527, 0.3520, 0.7821, 0.0903]]]]) with shape: torch.Size([1, 1, 2, 5])\n",
      "Tensor fs_split: tensor([[[[0.3504, 0.0338, 0.3736, 0.6599, 0.2324],\n",
      "          [0.6651, 0.3398, 0.1097, 0.4641, 0.9553]]]]) with shape: torch.Size([1, 1, 2, 5])\n",
      "tensor([[[0.7804, 0.4787, 0.3530, 0.7954, 0.0462]]]) tensor([[[0.3504, 0.0338, 0.3736, 0.6599, 0.2324]]])\n",
      "tensor([[0.8727]]) tensor([[0.6739]])\n",
      "tensor([[[0.8727, 0.6739]]])\n"
     ]
    }
   ],
   "source": [
    "from utils.general import compute_cosine_simmilarity\n",
    "import torch \n",
    "import torch.nn as nn \n",
    "\n",
    "f1 = torch.rand([1,1,10])\n",
    "f2 = torch.rand([1,1,10])\n",
    "\n",
    "print(f'Original f1 tensor: {f1}')\n",
    "print(f'Original f2 tensor: {f2}')\n",
    "\n",
    "def compute_cosine_simmilarity_test(f,f_s,G):\n",
    "\n",
    "    bs = f.shape[0]\n",
    "    nb_points = f.shape[1]\n",
    "    ch_size = f.shape[-1]\n",
    "    local_cs_ch = int(ch_size / G)\n",
    "    f_split = torch.reshape(f,(bs,nb_points,G,local_cs_ch))\n",
    "    fs_split = torch.reshape(f_s,(bs,nb_points,G,local_cs_ch))\n",
    "    \n",
    "    print(f'Tensor f_split: {f_split} with shape: {f_split.shape}')\n",
    "    print(f'Tensor fs_split: {fs_split} with shape: {fs_split.shape}')\n",
    "    \n",
    "    cosine_simmilarity = nn.CosineSimilarity(dim=-1, eps=1e-08)\n",
    "    cs = cosine_simmilarity(f_split,fs_split)\n",
    "    \n",
    "    return cs \n",
    "\n",
    "cs = compute_cosine_simmilarity_test(f1,f2,G=2)\n",
    "\n",
    "cosine_simmilarity = nn.CosineSimilarity(dim=-1, eps=1e-08)\n",
    "\n",
    "cs1 = cosine_simmilarity(f1[:,:,:5],f2[:,:,:5])\n",
    "cs2 = cosine_simmilarity(f1[:,:,5:],f2[:,:,5:])\n",
    "\n",
    "print(f1[:,:,:5],f2[:,:,:5])\n",
    "print(cs1,cs2)\n",
    "print(cs)"
   ]
  },
  {
   "cell_type": "code",
   "execution_count": 36,
   "id": "18500357-7a0e-4947-a5f6-39802053cefb",
   "metadata": {
    "tags": []
   },
   "outputs": [
    {
     "name": "stdout",
     "output_type": "stream",
     "text": [
      "tensor([[0.8634]]) tensor([[0.6676]])\n",
      "tensor([[[0.8249, 0.7993]]])\n"
     ]
    }
   ],
   "source": [
    "cosine_simmilarity = nn.CosineSimilarity(dim=-1, eps=1e-08)\n",
    "\n",
    "cs1 = cosine_simmilarity(f1[:,:,:5],f2[:,:,:5])\n",
    "cs2 = cosine_simmilarity(f1[:,:,5:],f2[:,:,5:])\n",
    "print(cs1,cs2)\n",
    "print(cs)"
   ]
  }
 ],
 "metadata": {
  "kernelspec": {
   "display_name": "Python 3 (ipykernel)",
   "language": "python",
   "name": "python3"
  },
  "language_info": {
   "codemirror_mode": {
    "name": "ipython",
    "version": 3
   },
   "file_extension": ".py",
   "mimetype": "text/x-python",
   "name": "python",
   "nbconvert_exporter": "python",
   "pygments_lexer": "ipython3",
   "version": "3.9.16"
  }
 },
 "nbformat": 4,
 "nbformat_minor": 5
}
