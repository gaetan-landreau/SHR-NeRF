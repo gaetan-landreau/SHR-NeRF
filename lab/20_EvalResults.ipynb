{
 "cells": [
  {
   "cell_type": "code",
   "execution_count": 22,
   "id": "17cc5660-c789-45de-85ef-86381ceb6cc2",
   "metadata": {
    "tags": []
   },
   "outputs": [
    {
     "name": "stdout",
     "output_type": "stream",
     "text": [
      "The autoreload extension is already loaded. To reload it, use:\n",
      "  %reload_ext autoreload\n"
     ]
    }
   ],
   "source": [
    "%load_ext autoreload\n",
    "%autoreload 2"
   ]
  },
  {
   "cell_type": "code",
   "execution_count": 23,
   "id": "58f34e12-1a64-4f55-b2e2-2fae5e41611d",
   "metadata": {
    "tags": []
   },
   "outputs": [],
   "source": [
    "import sys\n",
    "sys.path.append('../')\n",
    "sys.argv=[''] \n",
    "del sys"
   ]
  },
  {
   "cell_type": "code",
   "execution_count": 24,
   "id": "ffd41edb-5aa0-449e-967e-f6da8af4ad1b",
   "metadata": {
    "tags": []
   },
   "outputs": [
    {
     "name": "stdout",
     "output_type": "stream",
     "text": [
      "/root/SymmNeRF-baseline\n"
     ]
    }
   ],
   "source": [
    "cd \"/root/SymmNeRF-baseline/\""
   ]
  },
  {
   "cell_type": "code",
   "execution_count": 7,
   "id": "29042210-8f69-4e01-bfc9-2c3d67e5aa5b",
   "metadata": {
    "tags": []
   },
   "outputs": [],
   "source": [
    "import json \n",
    "\n",
    "with open('/data/SymmNeRF-improved/logs/evaluation/baseline_deepV3/results.json') as f:\n",
    "    data= json.load(f)"
   ]
  },
  {
   "cell_type": "code",
   "execution_count": 11,
   "id": "0232abdc-fc7b-464d-918c-7bc6f819b02b",
   "metadata": {
    "tags": []
   },
   "outputs": [],
   "source": [
    "def transform_data2float(data):\n",
    "    for key in data.keys():\n",
    "        data[key]  = list(map(lambda x:float(x),data[key]))\n",
    "    return data\n",
    "\n",
    "def get_avg_scores(data):\n",
    "    import numpy as np\n",
    "    \n",
    "    try:\n",
    "        data['psnr'].remove(np.inf)\n",
    "    except ValueError as e:\n",
    "        pass\n",
    "    avg_psnr = np.mean(data['psnr'])\n",
    "    avg_ssim = np.mean(data['ssim'])\n",
    "    avg_lpips = np.mean(data['lpips'])\n",
    "    return avg_psnr,avg_ssim,avg_lpips"
   ]
  },
  {
   "cell_type": "code",
   "execution_count": 12,
   "id": "4c61e6ed-754b-46bc-9286-a3cfe5cdd75d",
   "metadata": {
    "tags": []
   },
   "outputs": [],
   "source": [
    "data_a = transform_data2float(data['model_a'])\n",
    "data_b = transform_data2float(data['model_b'])\n",
    "\n",
    "psnr_a,ssim_a,lpips_a = get_avg_scores(data_a)\n",
    "psnr_b,ssim_b,lpips_b = get_avg_scores(data_b)"
   ]
  },
  {
   "cell_type": "code",
   "execution_count": 13,
   "id": "2ff8cd39-745e-4eb8-9395-aa86be1e5424",
   "metadata": {
    "tags": []
   },
   "outputs": [
    {
     "name": "stdout",
     "output_type": "stream",
     "text": [
      "22.792261131989445 inf\n"
     ]
    }
   ],
   "source": [
    "print(psnr_a,psnr_b)"
   ]
  },
  {
   "cell_type": "code",
   "execution_count": 17,
   "id": "decf543c-a279-48ef-834a-427bd9bdb712",
   "metadata": {},
   "outputs": [],
   "source": [
    "import numpy as np \n",
    "data['model_b']['psnr'].remove(np.inf)"
   ]
  },
  {
   "cell_type": "code",
   "execution_count": 20,
   "id": "3a53a422-21f8-4f30-b933-81e099aedae7",
   "metadata": {
    "tags": []
   },
   "outputs": [],
   "source": [
    "res = [i for i in data['model_b']['psnr'] if i <40.]"
   ]
  },
  {
   "cell_type": "code",
   "execution_count": 21,
   "id": "e9afb55e-cdc2-48b4-bce2-9ac9cd4a0c82",
   "metadata": {
    "tags": []
   },
   "outputs": [
    {
     "name": "stdout",
     "output_type": "stream",
     "text": [
      "23.1626611861931\n"
     ]
    }
   ],
   "source": [
    "print(np.mean(res))"
   ]
  },
  {
   "cell_type": "markdown",
   "id": "a3b9bed8-c8cc-4460-8a47-4dab03eb2160",
   "metadata": {},
   "source": [
    "## Ensure all networks are saved properly. "
   ]
  },
  {
   "cell_type": "code",
   "execution_count": 25,
   "id": "41d2f301-2be1-4f6a-8762-9d6d3b986e04",
   "metadata": {
    "tags": []
   },
   "outputs": [
    {
     "name": "stdout",
     "output_type": "stream",
     "text": [
      "dict_keys(['optimizer', 'scheduler', 'warmup_scheduler', 'feature_net', 'hypernetwork_fine'])\n"
     ]
    }
   ],
   "source": [
    "import torch \n",
    "weight_file = torch.load('/data/SymmNeRF-improved/logs/srns_dataset/cars/baseline_deepV3_RandomSymm_Naive/ckpts/model_020000.pth')\n",
    "print(weight_file.keys())"
   ]
  }
 ],
 "metadata": {
  "kernelspec": {
   "display_name": "Python 3 (ipykernel)",
   "language": "python",
   "name": "python3"
  },
  "language_info": {
   "codemirror_mode": {
    "name": "ipython",
    "version": 3
   },
   "file_extension": ".py",
   "mimetype": "text/x-python",
   "name": "python",
   "nbconvert_exporter": "python",
   "pygments_lexer": "ipython3",
   "version": "3.9.16"
  }
 },
 "nbformat": 4,
 "nbformat_minor": 5
}
