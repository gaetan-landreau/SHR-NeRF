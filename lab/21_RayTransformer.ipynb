{
 "cells": [
  {
   "cell_type": "code",
   "execution_count": 1,
   "id": "695e33bf-c928-4128-9d97-fcd0f658176c",
   "metadata": {
    "tags": []
   },
   "outputs": [],
   "source": [
    "%load_ext autoreload\n",
    "%autoreload 2"
   ]
  },
  {
   "cell_type": "code",
   "execution_count": 2,
   "id": "970c3a9d-34f0-4c49-bfb8-b6db34e4be66",
   "metadata": {
    "tags": []
   },
   "outputs": [],
   "source": [
    "import sys\n",
    "sys.path.append('../')\n",
    "sys.argv=[''] \n",
    "del sys"
   ]
  },
  {
   "cell_type": "code",
   "execution_count": 3,
   "id": "46f20838-a1b4-4541-9f60-5a766c609865",
   "metadata": {
    "tags": []
   },
   "outputs": [
    {
     "name": "stdout",
     "output_type": "stream",
     "text": [
      "/root/SymmNeRF-baseline/code\n"
     ]
    }
   ],
   "source": [
    "cd \"/root/SymmNeRF-baseline/code\""
   ]
  },
  {
   "cell_type": "markdown",
   "id": "3bf7405b-f7c3-4e68-8102-e038c61616a0",
   "metadata": {},
   "source": [
    "### Test out the general code implementation. "
   ]
  },
  {
   "cell_type": "code",
   "execution_count": 4,
   "id": "98f61843-bed8-4018-88d7-186754f186fd",
   "metadata": {
    "tags": []
   },
   "outputs": [],
   "source": [
    "from opt import config_parser\n",
    "\n",
    "parser = config_parser()\n",
    "args = parser.parse_args()\n",
    "\n",
    "args.num_local_layers = 2\n",
    "args.local_rank = 1\n",
    "args.no_load_opt = True\n",
    "args.no_load_scheduler = True\n",
    "args.local_feature_ch = 1024\n",
    "\n",
    "det = args.det\n",
    "lindisp = args.lindisp\n",
    "\n",
    "device = f'cuda:{args.local_rank}'"
   ]
  },
  {
   "cell_type": "code",
   "execution_count": 5,
   "id": "cddfeab4-f9e9-4647-9dca-7b976625a0e1",
   "metadata": {
    "tags": []
   },
   "outputs": [],
   "source": [
    "from datasets import dataset_dict, create_training_dataset\n",
    "from torch.utils.data import DataLoader \n",
    "\n",
    "from model import model_dict  \n",
    "from model.sample_ray import RaySampler \n",
    "from model.render_ray import render_rays\n",
    "\n",
    "from utils_lab_fct import * \n",
    "\n",
    "import setproctitle\n",
    "import torch \n",
    "import numpy as np \n",
    "import tqdm \n",
    "import cv2\n",
    "from einops import rearrange \n",
    "import matplotlib.pyplot as plt\n",
    "from time import time\n",
    "import multiprocessing as mp\n",
    "\n",
    "setproctitle.setproctitle('[Gaetan - RayTransformer test.]')"
   ]
  },
  {
   "cell_type": "markdown",
   "id": "31e5c2e3-925a-4fc1-aa37-529d1e8e558d",
   "metadata": {},
   "source": [
    "#### 0.Build a data batch."
   ]
  },
  {
   "cell_type": "code",
   "execution_count": 6,
   "id": "3abd53aa-c003-4cb1-9aad-2457b22dcd60",
   "metadata": {
    "tags": []
   },
   "outputs": [
    {
     "name": "stdout",
     "output_type": "stream",
     "text": [
      "[Info] Training dataset: srns_dataset\n",
      "[Info] Loading SRNs dataset: /data/srn_cars/cars_train\n"
     ]
    }
   ],
   "source": [
    "bs = 2\n",
    "\n",
    "train_dataset, train_sampler = create_training_dataset(args)\n",
    "train_loader = DataLoader(train_dataset,batch_size = bs , sampler = train_sampler)\n",
    "\n",
    "it = iter(train_loader)\n",
    "train_batch = next(it)"
   ]
  },
  {
   "cell_type": "code",
   "execution_count": 7,
   "id": "307584a4-af1e-49fe-835a-649bf8a8ff05",
   "metadata": {
    "tags": []
   },
   "outputs": [
    {
     "name": "stderr",
     "output_type": "stream",
     "text": [
      "/usr/local/lib/python3.9/dist-packages/torch/functional.py:568: UserWarning: torch.meshgrid: in an upcoming release, it will be required to pass the indexing argument. (Triggered internally at  ../aten/src/ATen/native/TensorShape.cpp:2228.)\n",
      "  return _VF.meshgrid(tensors, **kwargs)  # type: ignore[attr-defined]\n"
     ]
    }
   ],
   "source": [
    "# RaySampler class instantiation.\n",
    "ray_sampler = RaySampler(train_batch) \n",
    "\n",
    "# Number of rays and number of points sampled alogn each ray.\n",
    "nb_rays = 128\n",
    "nb_sampled_points_on_rays = 128\n",
    "\n",
    "# Build up a batch of ray. \n",
    "ray_batch = ray_sampler.random_sample(nb_rays,use_bbox = True,device = device)"
   ]
  },
  {
   "cell_type": "markdown",
   "id": "74ab7276-df71-4c8a-bf35-315ac0b80c6a",
   "metadata": {},
   "source": [
    "#### 1. Instantiate a model, without any weights loading. "
   ]
  },
  {
   "cell_type": "code",
   "execution_count": 8,
   "id": "6172e977-09ff-4b4b-b8b7-fc4597ae3b55",
   "metadata": {
    "tags": []
   },
   "outputs": [
    {
     "name": "stdout",
     "output_type": "stream",
     "text": [
      "[Info] No ckpts found, training from scratch...\n"
     ]
    }
   ],
   "source": [
    "args.cosine_mod ={\"use\":True,\n",
    "                   'type_mod':'local_feature_mod',\n",
    "                   \"learn_through_hypernetwork\":True,\n",
    "                   \"G\": 64}\n",
    "args.use_ray_transformer = True\n",
    "model = model_dict['hypernerf_symm_local'](args,ckpts_folder = \"\")"
   ]
  },
  {
   "cell_type": "code",
   "execution_count": null,
   "id": "8bbf219a-96c5-45d0-a76b-1c81a79d053d",
   "metadata": {},
   "outputs": [],
   "source": [
    "# Ensure all the parameters are going to be updated regarding the transformer"
   ]
  },
  {
   "cell_type": "code",
   "execution_count": 14,
   "id": "0252c234-890e-459c-852d-e9e054a95ab3",
   "metadata": {
    "tags": []
   },
   "outputs": [
    {
     "name": "stdout",
     "output_type": "stream",
     "text": [
      "ray_transformer.w_qs.weight\n",
      "ray_transformer.w_ks.weight\n",
      "ray_transformer.w_vs.weight\n",
      "ray_transformer.fc.weight\n",
      "ray_transformer.layer_norm.weight\n",
      "ray_transformer.layer_norm.bias\n",
      "out_alpha_linear.0.weight\n",
      "out_alpha_linear.0.bias\n",
      "out_alpha_linear.2.weight\n",
      "out_alpha_linear.2.bias\n"
     ]
    }
   ],
   "source": [
    "for name,param in model.ray_transformer.named_parameters():\n",
    "    if param.requires_grad:\n",
    "        print(name)"
   ]
  },
  {
   "cell_type": "markdown",
   "id": "b3fbff61-5ad6-46da-b776-b9fde7546d25",
   "metadata": {},
   "source": [
    "#### 2. Main ray rendering algorithm. "
   ]
  },
  {
   "cell_type": "code",
   "execution_count": 9,
   "id": "865971d2-88dd-44e6-980c-0bae7ee69714",
   "metadata": {
    "tags": []
   },
   "outputs": [
    {
     "name": "stdout",
     "output_type": "stream",
     "text": [
      "Shape of pts: torch.Size([2, 128, 128, 3])\n"
     ]
    }
   ],
   "source": [
    "z = model.encode(ray_batch['src_img'])\n",
    "\n",
    "\n",
    "from model.render_ray import sample_along_camera_ray,run_network\n",
    "from utils.general import compute_cosine_simmilarity\n",
    "from model.nerf import run_nerf_symm_local\n",
    "\n",
    "rays_o = ray_batch['rays_o']    # [B,256,3]\n",
    "rays_d = ray_batch['rays_d']    # [B,256,3]\n",
    "z_near = ray_batch['z_near']\n",
    "z_far = ray_batch['z_far']\n",
    "\n",
    "noise = False \n",
    "\n",
    "#### 1. Get the 3D points ray, the viewdir and z sampled dist.\n",
    "pts, viewdirs, z_vals = sample_along_camera_ray(rays_o=rays_o,  # pts : [B,256,64,3] - viewdirs : [B,256,3] - z_vals : [B,256,64]\n",
    "                                                rays_d=rays_d,\n",
    "                                                z_near=z_near,\n",
    "                                                z_far=z_far,\n",
    "                                                device=device,\n",
    "                                                N_samples=nb_sampled_points_on_rays,\n",
    "                                                lindisp=lindisp, \n",
    "                                                det=det)\n",
    "#### 2. Get the NeRF weights according to the latent code z. \n",
    "nerf_fine_layers = model.hypernetwork_fine(z) \n",
    "\n",
    "### 3. Get the local feature, corresponding grid and their symetric counterpart.\n",
    "ret_features = model.feature_net.index(pts, \n",
    "                                       ray_batch['src_pose'],\n",
    "                                       ray_batch['intrinsics'], \n",
    "                                       ray_batch['image_size'], \n",
    "                                       noise)\n",
    "\n",
    "f, f_s = ret_features['feat'], ret_features['feat_s']\n",
    "grid,grid_s = ret_features['uv'],ret_features['uv_symm']\n",
    "\n",
    "local_feature = torch.cat([f,f_s],-1)\n",
    "### 4. Compute cosine simmilarity. \n",
    "cs = compute_cosine_simmilarity(f,f_s,args.cosine_mod['G'])\n",
    "args.cosine_mod['cs']=cs\n",
    "\n",
    "### 5. Define the NeRF models (one for each image in the batch since they all have a different latent code z). \n",
    "nerf_fine = lambda x: run_nerf_symm_local(x, \n",
    "                                          nerf_layers=nerf_fine_layers, \n",
    "                                          input_ch=model.input_ch,\n",
    "                                          input_ch_views=model.input_ch_views,\n",
    "                                          local_feature_ch=1024,\n",
    "                                          cosine_mod = args.cosine_mod\n",
    "                                         )\n",
    "\n",
    "network = {'nerf':nerf_fine,\n",
    "          'ray_transformer':model.ray_transformer}\n",
    "\n",
    "print(f'Shape of pts: {pts.shape}')\n",
    "raw_fine = run_network(pts,viewdirs,network,model.embed_fn,model.embeddirs_fn,local_feature,args.cosine_mod,ret_features)"
   ]
  },
  {
   "cell_type": "code",
   "execution_count": null,
   "id": "849c3ee4-57bb-41e5-92a7-1d5ce5dae6ab",
   "metadata": {
    "tags": []
   },
   "outputs": [],
   "source": [
    "128*128"
   ]
  },
  {
   "cell_type": "code",
   "execution_count": null,
   "id": "ea9db716-fbef-41cb-874d-716a66b02a82",
   "metadata": {},
   "outputs": [],
   "source": []
  },
  {
   "cell_type": "code",
   "execution_count": null,
   "id": "72a2deb8-b84e-4c1f-952d-65b60e9891f1",
   "metadata": {},
   "outputs": [],
   "source": []
  },
  {
   "cell_type": "code",
   "execution_count": null,
   "id": "d395282a-736c-43fe-94d6-3e1d7dba8898",
   "metadata": {},
   "outputs": [],
   "source": []
  },
  {
   "cell_type": "code",
   "execution_count": 2,
   "id": "e5c54008-c034-418b-a480-33ef30aadf89",
   "metadata": {
    "tags": []
   },
   "outputs": [],
   "source": [
    "import torch\n",
    "torch.cuda.empty_cache() # PyTorch thing"
   ]
  },
  {
   "cell_type": "code",
   "execution_count": 3,
   "id": "38e28909-54ed-47eb-98f0-a2606acef81d",
   "metadata": {},
   "outputs": [
    {
     "name": "stdout",
     "output_type": "stream",
     "text": [
      "Collecting numba\n",
      "  Downloading numba-0.57.1-cp39-cp39-manylinux2014_x86_64.manylinux_2_17_x86_64.whl (3.6 MB)\n",
      "\u001b[2K     \u001b[90m━━━━━━━━━━━━━━━━━━━━━━━━━━━━━━━━━━━━━━━━\u001b[0m \u001b[32m3.6/3.6 MB\u001b[0m \u001b[31m27.5 MB/s\u001b[0m eta \u001b[36m0:00:00\u001b[0m00:01\u001b[0m00:01\u001b[0m\n",
      "\u001b[?25hCollecting llvmlite<0.41,>=0.40.0dev0\n",
      "  Downloading llvmlite-0.40.1-cp39-cp39-manylinux_2_17_x86_64.manylinux2014_x86_64.whl (42.1 MB)\n",
      "\u001b[2K     \u001b[90m━━━━━━━━━━━━━━━━━━━━━━━━━━━━━━━━━━━━━━━━\u001b[0m \u001b[32m42.1/42.1 MB\u001b[0m \u001b[31m46.3 MB/s\u001b[0m eta \u001b[36m0:00:00\u001b[0m00:01\u001b[0m00:01\u001b[0m\n",
      "\u001b[?25hRequirement already satisfied: numpy<1.25,>=1.21 in /usr/local/lib/python3.9/dist-packages (from numba) (1.24.2)\n",
      "Installing collected packages: llvmlite, numba\n",
      "Successfully installed llvmlite-0.40.1 numba-0.57.1\n",
      "\u001b[33mWARNING: Running pip as the 'root' user can result in broken permissions and conflicting behaviour with the system package manager. It is recommended to use a virtual environment instead: https://pip.pypa.io/warnings/venv\u001b[0m\u001b[33m\n",
      "\u001b[0m\n",
      "\u001b[1m[\u001b[0m\u001b[34;49mnotice\u001b[0m\u001b[1;39;49m]\u001b[0m\u001b[39;49m A new release of pip is available: \u001b[0m\u001b[31;49m23.0\u001b[0m\u001b[39;49m -> \u001b[0m\u001b[32;49m23.1.2\u001b[0m\n",
      "\u001b[1m[\u001b[0m\u001b[34;49mnotice\u001b[0m\u001b[1;39;49m]\u001b[0m\u001b[39;49m To update, run: \u001b[0m\u001b[32;49mpython -m pip install --upgrade pip\u001b[0m\n"
     ]
    }
   ],
   "source": [
    "!pip install numba "
   ]
  },
  {
   "cell_type": "code",
   "execution_count": 12,
   "id": "25fad8d2-5cf8-4f2e-89d7-6b0a8db408c4",
   "metadata": {},
   "outputs": [],
   "source": [
    "from numba import cuda\n",
    " \n",
    "cuda.select_device(0) # choosing second GPU \n",
    "cuda.close()"
   ]
  },
  {
   "cell_type": "code",
   "execution_count": null,
   "id": "199aeeb0-bc4a-4948-9c3f-5ed5f71b91ef",
   "metadata": {},
   "outputs": [],
   "source": []
  }
 ],
 "metadata": {
  "kernelspec": {
   "display_name": "Python 3 (ipykernel)",
   "language": "python",
   "name": "python3"
  },
  "language_info": {
   "codemirror_mode": {
    "name": "ipython",
    "version": 3
   },
   "file_extension": ".py",
   "mimetype": "text/x-python",
   "name": "python",
   "nbconvert_exporter": "python",
   "pygments_lexer": "ipython3",
   "version": "3.9.16"
  }
 },
 "nbformat": 4,
 "nbformat_minor": 5
}
